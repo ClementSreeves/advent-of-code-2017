{
 "cells": [
  {
   "cell_type": "code",
   "execution_count": 1,
   "metadata": {},
   "outputs": [],
   "source": [
    "import utils"
   ]
  },
  {
   "cell_type": "code",
   "execution_count": 3,
   "metadata": {},
   "outputs": [
    {
     "data": {
      "text/plain": [
       "True"
      ]
     },
     "execution_count": 3,
     "metadata": {},
     "output_type": "execute_result"
    }
   ],
   "source": [
    "components = [tuple(map(int, l.split('/'))) for l in utils.import_file(\"Inputs/input24.txt\", split=True)]\n",
    "len(components) == len(set(components))"
   ]
  },
  {
   "cell_type": "code",
   "execution_count": 31,
   "metadata": {},
   "outputs": [],
   "source": [
    "components = set(components)\n",
    "complete_bridges = [[c] for c in components if 0 in c]\n",
    "building_bridges = [(b, b[0][0] or b[0][1], components - set([b[0]])) for b in complete_bridges]   "
   ]
  },
  {
   "cell_type": "code",
   "execution_count": 30,
   "metadata": {},
   "outputs": [],
   "source": [
    "while building_bridges:\n",
    "    new_building_bridges = []\n",
    "    for bridge, next_val, rem_pieces in building_bridges:\n",
    "        for piece in rem_pieces:\n",
    "            if next_val in piece:\n",
    "                complete_bridges.append(bridge + [piece])\n",
    "                index = piece.index(next_val)\n",
    "                new_building_bridges.append((bridge + [piece], piece[1 - index], rem_pieces - set([piece])))\n",
    "    building_bridges = new_building_bridges"
   ]
  },
  {
   "cell_type": "code",
   "execution_count": 28,
   "metadata": {},
   "outputs": [
    {
     "data": {
      "text/plain": [
       "1940"
      ]
     },
     "execution_count": 28,
     "metadata": {},
     "output_type": "execute_result"
    }
   ],
   "source": [
    "max([sum([sum(i) for i in b]) for b in complete_bridges])"
   ]
  },
  {
   "cell_type": "code",
   "execution_count": 29,
   "metadata": {},
   "outputs": [
    {
     "data": {
      "text/plain": [
       "1928"
      ]
     },
     "execution_count": 29,
     "metadata": {},
     "output_type": "execute_result"
    }
   ],
   "source": [
    "max_len = max([len(b) for b in complete_bridges])\n",
    "max_len_bridges = [b for b in complete_bridges if len(b) == max_len]\n",
    "max([sum([sum(i) for i in b]) for b in max_len_bridges])"
   ]
  }
 ],
 "metadata": {
  "kernelspec": {
   "display_name": "Python 3",
   "language": "python",
   "name": "python3"
  },
  "language_info": {
   "codemirror_mode": {
    "name": "ipython",
    "version": 3
   },
   "file_extension": ".py",
   "mimetype": "text/x-python",
   "name": "python",
   "nbconvert_exporter": "python",
   "pygments_lexer": "ipython3",
   "version": "3.6.3"
  }
 },
 "nbformat": 4,
 "nbformat_minor": 2
}
