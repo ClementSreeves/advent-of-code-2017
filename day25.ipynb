{
 "cells": [
  {
   "cell_type": "code",
   "execution_count": 1,
   "metadata": {},
   "outputs": [],
   "source": [
    "from collections import defaultdict"
   ]
  },
  {
   "cell_type": "code",
   "execution_count": 10,
   "metadata": {},
   "outputs": [],
   "source": [
    "def exec_step_test(tape, cursor, state):\n",
    "    if state == 'A':\n",
    "        if tape[cursor]:\n",
    "            tape[cursor] = 0\n",
    "            cursor -= 1\n",
    "            next_state = 'B'\n",
    "        else:\n",
    "            tape[cursor] = 1\n",
    "            cursor += 1\n",
    "            next_state = 'B'\n",
    "    elif state == 'B':\n",
    "        if tape[cursor]:\n",
    "            tape[cursor] = 1\n",
    "            cursor += 1\n",
    "            next_state = 'A'\n",
    "        else:\n",
    "            tape[cursor] = 1\n",
    "            cursor -= 1\n",
    "            next_state = 'A'        \n",
    "    return (tape, cursor, next_state)"
   ]
  },
  {
   "cell_type": "code",
   "execution_count": 13,
   "metadata": {},
   "outputs": [
    {
     "name": "stdout",
     "output_type": "stream",
     "text": [
      "(defaultdict(<class 'int'>, {0: 1}), 1, 'B')\n",
      "(defaultdict(<class 'int'>, {0: 1, 1: 1}), 0, 'A')\n",
      "(defaultdict(<class 'int'>, {0: 0, 1: 1}), -1, 'B')\n",
      "(defaultdict(<class 'int'>, {0: 0, 1: 1, -1: 1}), -2, 'A')\n",
      "(defaultdict(<class 'int'>, {0: 0, 1: 1, -1: 1, -2: 1}), -1, 'B')\n",
      "(defaultdict(<class 'int'>, {0: 0, 1: 1, -1: 1, -2: 1}), 0, 'A')\n"
     ]
    },
    {
     "data": {
      "text/plain": [
       "3"
      ]
     },
     "execution_count": 13,
     "metadata": {},
     "output_type": "execute_result"
    }
   ],
   "source": [
    "tape = defaultdict(int)\n",
    "cursor = 0\n",
    "state = 'A'\n",
    "num_steps = 6\n",
    "for _ in range(num_steps):\n",
    "    (tape, cursor, state) = exec_step_test(tape, cursor, state)\n",
    "    print((tape, cursor, state))\n",
    "sum(tape.values())"
   ]
  },
  {
   "cell_type": "code",
   "execution_count": 15,
   "metadata": {},
   "outputs": [],
   "source": [
    "def exec_step(tape, cursor, state):\n",
    "    if state == 'A':\n",
    "        if tape[cursor]:\n",
    "            tape[cursor] = 0\n",
    "            cursor -= 1\n",
    "            next_state = 'C'\n",
    "        else:\n",
    "            tape[cursor] = 1\n",
    "            cursor += 1\n",
    "            next_state = 'B'\n",
    "    elif state == 'B':\n",
    "        if tape[cursor]:\n",
    "            tape[cursor] = 1\n",
    "            cursor += 1\n",
    "            next_state = 'D'\n",
    "        else:\n",
    "            tape[cursor] = 1\n",
    "            cursor -= 1\n",
    "            next_state = 'A'\n",
    "    elif state == 'C':\n",
    "        if tape[cursor]:\n",
    "            tape[cursor] = 0\n",
    "            cursor -= 1\n",
    "            next_state = 'E'\n",
    "        else:\n",
    "            tape[cursor] = 0\n",
    "            cursor -= 1\n",
    "            next_state = 'B'  \n",
    "    elif state == 'D':\n",
    "        if tape[cursor]:\n",
    "            tape[cursor] = 0\n",
    "            cursor += 1\n",
    "            next_state = 'B'\n",
    "        else:\n",
    "            tape[cursor] = 1\n",
    "            cursor += 1\n",
    "            next_state = 'A'  \n",
    "    elif state == 'E':\n",
    "        if tape[cursor]:\n",
    "            tape[cursor] = 1\n",
    "            cursor -= 1\n",
    "            next_state = 'C'\n",
    "        else:\n",
    "            tape[cursor] = 1\n",
    "            cursor -= 1\n",
    "            next_state = 'F'  \n",
    "    elif state == 'F':\n",
    "        if tape[cursor]:\n",
    "            tape[cursor] = 1\n",
    "            cursor += 1\n",
    "            next_state = 'A'\n",
    "        else:\n",
    "            tape[cursor] = 1\n",
    "            cursor += 1\n",
    "            next_state = 'D'  \n",
    "    return (tape, cursor, next_state)"
   ]
  },
  {
   "cell_type": "code",
   "execution_count": 16,
   "metadata": {},
   "outputs": [
    {
     "data": {
      "text/plain": [
       "3362"
      ]
     },
     "execution_count": 16,
     "metadata": {},
     "output_type": "execute_result"
    }
   ],
   "source": [
    "tape = defaultdict(int)\n",
    "cursor = 0\n",
    "state = 'A'\n",
    "num_steps = 12481997\n",
    "for _ in range(num_steps):\n",
    "    (tape, cursor, state) = exec_step(tape, cursor, state)\n",
    "sum(tape.values())"
   ]
  }
 ],
 "metadata": {
  "kernelspec": {
   "display_name": "Python 3",
   "language": "python",
   "name": "python3"
  },
  "language_info": {
   "codemirror_mode": {
    "name": "ipython",
    "version": 3
   },
   "file_extension": ".py",
   "mimetype": "text/x-python",
   "name": "python",
   "nbconvert_exporter": "python",
   "pygments_lexer": "ipython3",
   "version": "3.6.3"
  }
 },
 "nbformat": 4,
 "nbformat_minor": 2
}
