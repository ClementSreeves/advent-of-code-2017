{
 "cells": [
  {
   "cell_type": "code",
   "execution_count": 2,
   "metadata": {},
   "outputs": [],
   "source": [
    "import utils\n",
    "from collections import defaultdict"
   ]
  },
  {
   "cell_type": "code",
   "execution_count": 3,
   "metadata": {},
   "outputs": [],
   "source": [
    "def quantify(val, registers):\n",
    "    try:\n",
    "        return int(val)\n",
    "    except ValueError:\n",
    "        return registers[val]"
   ]
  },
  {
   "cell_type": "code",
   "execution_count": 20,
   "metadata": {},
   "outputs": [],
   "source": [
    "def process_instruction(i, instructions, registers, inbox, verbose=False):\n",
    "    sending = None\n",
    "    empty = False\n",
    "    command, *arguments = instructions[i].split()\n",
    "    if verbose:\n",
    "        print((instructions[i], registers))\n",
    "        input()\n",
    "    if command == 'snd':\n",
    "        X = quantify(arguments[0], registers)\n",
    "    elif command == 'rcv':\n",
    "        X = arguments[0]\n",
    "    elif command == 'jgz':\n",
    "        X, Y = [quantify(val, registers) for val in arguments]\n",
    "        if X > 0:\n",
    "            return (i + Y, registers, inbox, sending, empty)\n",
    "    else:\n",
    "        X, Y = [arguments[0], quantify(arguments[1], registers)]\n",
    "    #execute the command\n",
    "    if command == 'snd':\n",
    "        sending = X\n",
    "    elif command == 'rcv':\n",
    "        if len(inbox):\n",
    "            registers[X] = inbox.pop(0)\n",
    "        else:\n",
    "            empty = True\n",
    "            return (i, registers, inbox, sending, empty)\n",
    "    elif command == 'set':\n",
    "        registers[X] = Y\n",
    "    elif command == 'add':\n",
    "        registers[X] += Y\n",
    "    elif command == 'mul':\n",
    "        registers[X] *= Y\n",
    "    elif command == 'mod':\n",
    "        registers[X] = registers[X] % Y\n",
    "    return (i+1, registers, inbox, sending, empty)"
   ]
  },
  {
   "cell_type": "code",
   "execution_count": 11,
   "metadata": {},
   "outputs": [],
   "source": [
    "def run(instructions, i, registers, inbox, outbox, sent, verbose=False):\n",
    "    finished = False\n",
    "    while 0 <= i < len(instructions):\n",
    "        if verbose:\n",
    "            (i, registers, inbox, sending, empty) = process_instruction(i, instructions, registers, inbox, verbose=True)\n",
    "        else:\n",
    "            (i, registers, inbox, sending, empty) = process_instruction(i, instructions, registers, inbox)\n",
    "        if sending:\n",
    "            outbox.append(sending)\n",
    "            sent += 1\n",
    "        if empty:\n",
    "            return (i, registers, inbox, outbox, sent, finished)\n",
    "    finished = True\n",
    "    return (i, registers, inbox, outbox, sent, finished)"
   ]
  },
  {
   "cell_type": "code",
   "execution_count": 23,
   "metadata": {},
   "outputs": [],
   "source": [
    "#set up\n",
    "instructions = utils.import_file(\"Inputs/input18.txt\", split=True)\n",
    "inboxA = []\n",
    "inboxB = []\n",
    "registersA = defaultdict(int)\n",
    "registersA['p'] = 0\n",
    "registersB = defaultdict(int)\n",
    "registersB['p'] = 1\n",
    "indexA = indexB = 0\n",
    "sentA = sentB = 0"
   ]
  },
  {
   "cell_type": "code",
   "execution_count": 24,
   "metadata": {},
   "outputs": [
    {
     "data": {
      "text/plain": [
       "(6096, 5969)"
      ]
     },
     "execution_count": 24,
     "metadata": {},
     "output_type": "execute_result"
    }
   ],
   "source": [
    "while True:\n",
    "    (indexA, registersA, inboxA, inboxB, sentA, finishedA) = run(instructions, indexA, registersA, inboxA, inboxB, sentA)\n",
    "    (indexB, registersB, inboxB, inboxA, sentB, finishedB) = run(instructions, indexB, registersB, inboxB, inboxA, sentB)\n",
    "    if finishedA:\n",
    "        break\n",
    "    if finishedB:\n",
    "        (indexA, registersA, inboxA, inboxB, sentA, finishedA) = run(instructions, indexA, registersA, inboxA, inboxB, sentA)\n",
    "        break\n",
    "    if len(inboxA) == 0 and len(inboxB) == 0:\n",
    "        break\n",
    "(sentA, sentB)"
   ]
  },
  {
   "cell_type": "code",
   "execution_count": 58,
   "metadata": {},
   "outputs": [
    {
     "data": {
      "text/plain": [
       "41"
      ]
     },
     "execution_count": 58,
     "metadata": {},
     "output_type": "execute_result"
    }
   ],
   "source": [
    "indexB"
   ]
  }
 ],
 "metadata": {
  "kernelspec": {
   "display_name": "Python 3",
   "language": "python",
   "name": "python3"
  },
  "language_info": {
   "codemirror_mode": {
    "name": "ipython",
    "version": 3
   },
   "file_extension": ".py",
   "mimetype": "text/x-python",
   "name": "python",
   "nbconvert_exporter": "python",
   "pygments_lexer": "ipython3",
   "version": "3.6.3"
  }
 },
 "nbformat": 4,
 "nbformat_minor": 2
}
