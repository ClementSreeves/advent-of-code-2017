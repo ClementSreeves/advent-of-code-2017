{
 "cells": [
  {
   "cell_type": "code",
   "execution_count": 33,
   "metadata": {},
   "outputs": [],
   "source": [
    "import utils\n",
    "import string"
   ]
  },
  {
   "cell_type": "code",
   "execution_count": 46,
   "metadata": {},
   "outputs": [],
   "source": [
    "data = utils.import_file(\"Inputs/input19.txt\").split('\\n')"
   ]
  },
  {
   "cell_type": "code",
   "execution_count": 47,
   "metadata": {},
   "outputs": [
    {
     "data": {
      "text/plain": [
       "(201, 201)"
      ]
     },
     "execution_count": 47,
     "metadata": {},
     "output_type": "execute_result"
    }
   ],
   "source": [
    "##add missing space\n",
    "std_len = len(data[1])\n",
    "start = std_len - len(data[0])\n",
    "data[0] = ' ' * start + data[0]\n",
    "data[-1] += ' ' * (std_len - len(data[-1]))\n",
    "(len(data[0]), len(data[-1]))"
   ]
  },
  {
   "cell_type": "code",
   "execution_count": 28,
   "metadata": {},
   "outputs": [],
   "source": [
    "U, D, L, R = (-1+0j, 1+0j, 0-1j, 0+1j)"
   ]
  },
  {
   "cell_type": "code",
   "execution_count": 45,
   "metadata": {},
   "outputs": [],
   "source": [
    "data2 = [\n",
    "'     |          ', \n",
    "'     |  +--+    ',\n",
    "'     A  |  C    ',\n",
    "' F---|----E|--+ ',\n",
    "'     |  |  |  D ',\n",
    "'     +B-+  +--+ '\n",
    "]"
   ]
  },
  {
   "cell_type": "code",
   "execution_count": 52,
   "metadata": {},
   "outputs": [],
   "source": [
    "def follow(data, startx, starty):\n",
    "    x, y = (startx, starty)\n",
    "    direction = D\n",
    "    collected = ''\n",
    "    steps = 0\n",
    "    while True:\n",
    "        x += int(direction.real)\n",
    "        y += int(direction.imag)\n",
    "        val = data[x][y]\n",
    "        steps += 1\n",
    "        if val in string.ascii_uppercase:\n",
    "            collected += val\n",
    "        if val == '+':\n",
    "            if direction == U or direction == D:\n",
    "                try:\n",
    "                    direction = L if data[x][y+1] == ' ' else R\n",
    "                except IndexError:\n",
    "                    direction = L\n",
    "            elif direction == L or direction == R:\n",
    "                try:\n",
    "                    direction = U if data[x+1][y] == ' ' else D\n",
    "                except IndexError:\n",
    "                    direction = U\n",
    "        if val == ' ':\n",
    "            break\n",
    "    return (collected, steps)"
   ]
  },
  {
   "cell_type": "code",
   "execution_count": 53,
   "metadata": {},
   "outputs": [
    {
     "data": {
      "text/plain": [
       "('ABCDEF', 38)"
      ]
     },
     "execution_count": 53,
     "metadata": {},
     "output_type": "execute_result"
    }
   ],
   "source": [
    "follow(data2, 0, 5)"
   ]
  },
  {
   "cell_type": "code",
   "execution_count": 54,
   "metadata": {},
   "outputs": [
    {
     "data": {
      "text/plain": [
       "('UICRNSDOK', 16064)"
      ]
     },
     "execution_count": 54,
     "metadata": {},
     "output_type": "execute_result"
    }
   ],
   "source": [
    "follow(data, 0, start)"
   ]
  }
 ],
 "metadata": {
  "kernelspec": {
   "display_name": "Python 3",
   "language": "python",
   "name": "python3"
  },
  "language_info": {
   "codemirror_mode": {
    "name": "ipython",
    "version": 3
   },
   "file_extension": ".py",
   "mimetype": "text/x-python",
   "name": "python",
   "nbconvert_exporter": "python",
   "pygments_lexer": "ipython3",
   "version": "3.6.3"
  }
 },
 "nbformat": 4,
 "nbformat_minor": 2
}
