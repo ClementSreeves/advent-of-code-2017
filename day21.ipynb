{
 "cells": [
  {
   "cell_type": "code",
   "execution_count": 104,
   "metadata": {},
   "outputs": [],
   "source": [
    "import numpy as np\n",
    "import utils"
   ]
  },
  {
   "cell_type": "code",
   "execution_count": 91,
   "metadata": {},
   "outputs": [],
   "source": [
    "def split_square(square):\n",
    "    #first split vertically, then split horizontally. Returns a 2-d list\n",
    "    size = len(square)\n",
    "    if size == 2 or size == 3:\n",
    "        return [[square]]\n",
    "    num_subsquare = size / 2 if len(square) % 2 == 0 else size / 3\n",
    "    return [np.split(half, num_subsquare, 1) for half in np.split(square, num_subsquare, 0)]"
   ]
  },
  {
   "cell_type": "code",
   "execution_count": 25,
   "metadata": {},
   "outputs": [],
   "source": [
    "def rotate(array, times=1):\n",
    "    for i in range(times):\n",
    "        array = np.rot90(array)\n",
    "    return array"
   ]
  },
  {
   "cell_type": "code",
   "execution_count": 117,
   "metadata": {},
   "outputs": [],
   "source": [
    "def permutations(square):\n",
    "    return [rotate(square, times=i) for i in range(4)] + [rotate(np.fliplr(square), times=i) for i in range(4)]"
   ]
  },
  {
   "cell_type": "code",
   "execution_count": 74,
   "metadata": {},
   "outputs": [],
   "source": [
    "def str_to_array(s):\n",
    "    conv = {'.': 0, '#': 1}\n",
    "    return np.array([list(map(lambda x: conv[x], r)) for r in s.split('/')])"
   ]
  },
  {
   "cell_type": "code",
   "execution_count": 75,
   "metadata": {},
   "outputs": [],
   "source": [
    "def array_to_str(arr):\n",
    "    conv = {0: '.', 1: '#'}\n",
    "    return '/'.join([''.join(list(map(lambda x: conv[x], r))) for r in arr])"
   ]
  },
  {
   "cell_type": "code",
   "execution_count": 111,
   "metadata": {},
   "outputs": [],
   "source": [
    "rules = {\"../.#\": np.array([[1, 1, 0], [1, 0, 0], [0, 0, 0]]),\n",
    "         \".#./..#/###\": np.array([[1, 0, 0, 1], [0, 0, 0, 0], [0, 0, 0, 0], [1, 0, 0, 1]])}"
   ]
  },
  {
   "cell_type": "code",
   "execution_count": 115,
   "metadata": {},
   "outputs": [],
   "source": [
    "def find_enhancement(square):\n",
    "    for perm in permutations(square):\n",
    "        string_rep = array_to_str(perm)\n",
    "        if string_rep in rules:\n",
    "            return rules[string_rep]\n",
    "    print(\"NOT FOUND\")"
   ]
  },
  {
   "cell_type": "code",
   "execution_count": 122,
   "metadata": {},
   "outputs": [],
   "source": [
    "def run(start_pattern, iterations):\n",
    "    square = start_pattern\n",
    "    for i in range(iterations):\n",
    "        sub_squares = split_square(square)\n",
    "        enhanced_squares = []\n",
    "        for row in sub_squares:\n",
    "            enhanced_squares.append(list(map(lambda x: find_enhancement(x), row)))\n",
    "        square = np.vstack([np.hstack(row) for row in enhanced_squares])\n",
    "        print(i)\n",
    "    return np.sum(square)"
   ]
  },
  {
   "cell_type": "code",
   "execution_count": 112,
   "metadata": {},
   "outputs": [
    {
     "name": "stdout",
     "output_type": "stream",
     "text": [
      "[[1 0 0 1]\n",
      " [0 0 0 0]\n",
      " [0 0 0 0]\n",
      " [1 0 0 1]]\n",
      "[[1 1 0 1 1 0]\n",
      " [1 0 0 1 0 0]\n",
      " [0 0 0 0 0 0]\n",
      " [1 1 0 1 1 0]\n",
      " [1 0 0 1 0 0]\n",
      " [0 0 0 0 0 0]]\n"
     ]
    },
    {
     "data": {
      "text/plain": [
       "12"
      ]
     },
     "execution_count": 112,
     "metadata": {},
     "output_type": "execute_result"
    }
   ],
   "source": [
    "start_pattern = np.array([[0, 1, 0], [0, 0, 1], [1, 1, 1]])\n",
    "run(start_pattern, 2)"
   ]
  },
  {
   "cell_type": "code",
   "execution_count": 123,
   "metadata": {},
   "outputs": [
    {
     "name": "stdout",
     "output_type": "stream",
     "text": [
      "0\n",
      "1\n",
      "2\n",
      "3\n",
      "4\n",
      "5\n",
      "6\n",
      "7\n",
      "8\n",
      "9\n",
      "10\n",
      "11\n",
      "12\n",
      "13\n",
      "14\n",
      "15\n",
      "16\n",
      "17\n"
     ]
    },
    {
     "data": {
      "text/plain": [
       "1782917"
      ]
     },
     "execution_count": 123,
     "metadata": {},
     "output_type": "execute_result"
    }
   ],
   "source": [
    "rules_data = utils.import_file(\"Inputs/input21.txt\", split=True)\n",
    "rules = {k: str_to_array(v) for k, v in [rule.split(\" => \") for rule in rules_data]}\n",
    "start_pattern = np.array([[0, 1, 0], [0, 0, 1], [1, 1, 1]])\n",
    "#rules\n",
    "run(start_pattern, 18)"
   ]
  }
 ],
 "metadata": {
  "kernelspec": {
   "display_name": "Python 3",
   "language": "python",
   "name": "python3"
  },
  "language_info": {
   "codemirror_mode": {
    "name": "ipython",
    "version": 3
   },
   "file_extension": ".py",
   "mimetype": "text/x-python",
   "name": "python",
   "nbconvert_exporter": "python",
   "pygments_lexer": "ipython3",
   "version": "3.6.3"
  }
 },
 "nbformat": 4,
 "nbformat_minor": 2
}
