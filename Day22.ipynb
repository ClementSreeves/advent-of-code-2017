{
 "cells": [
  {
   "cell_type": "code",
   "execution_count": 1,
   "metadata": {},
   "outputs": [],
   "source": [
    "import utils\n",
    "from collections import defaultdict\n",
    "from copy import copy"
   ]
  },
  {
   "cell_type": "code",
   "execution_count": 2,
   "metadata": {},
   "outputs": [],
   "source": [
    "data = utils.import_file(\"Inputs/input22.txt\", split=True)"
   ]
  },
  {
   "cell_type": "code",
   "execution_count": 3,
   "metadata": {},
   "outputs": [],
   "source": [
    "def burst(node, direction, infected):\n",
    "    if infected[node] == 'I':\n",
    "        direction *= -1j\n",
    "        infected[node] = ''\n",
    "        did_infect = False\n",
    "    else:\n",
    "        direction *= 1j\n",
    "        infected[node] = 'I'\n",
    "        did_infect = True\n",
    "    return (node + direction, direction, infected, did_infect)"
   ]
  },
  {
   "cell_type": "code",
   "execution_count": 4,
   "metadata": {},
   "outputs": [],
   "source": [
    "def virus(infected, burst_count, direction=1j, node=0+0j):\n",
    "    total_infections = 0\n",
    "    for _ in range(burst_count):\n",
    "        (node, direction, infected, did_infect) = burst(node, direction, infected)\n",
    "        if did_infect:\n",
    "            total_infections += 1\n",
    "    return total_infections"
   ]
  },
  {
   "cell_type": "code",
   "execution_count": 5,
   "metadata": {},
   "outputs": [
    {
     "data": {
      "text/plain": [
       "5587"
      ]
     },
     "execution_count": 5,
     "metadata": {},
     "output_type": "execute_result"
    }
   ],
   "source": [
    "infected_test = defaultdict(str)\n",
    "infected_test[-1 + 0j] = 'I'\n",
    "infected_test[1 + 1j] = 'I'\n",
    "virus(copy(infected_test), burst_count=10000)"
   ]
  },
  {
   "cell_type": "code",
   "execution_count": 6,
   "metadata": {},
   "outputs": [],
   "source": [
    "#fill out inital grid\n",
    "gridsize = len(data)\n",
    "max_coord = gridsize // 2\n",
    "infected = defaultdict(str)\n",
    "imag = max_coord\n",
    "for row in data:\n",
    "    real = -max_coord\n",
    "    for point in row:\n",
    "        infected[complex(real, imag)] = 'I' if point == '#' else ''\n",
    "        real += 1\n",
    "    imag -= 1"
   ]
  },
  {
   "cell_type": "code",
   "execution_count": 7,
   "metadata": {},
   "outputs": [
    {
     "data": {
      "text/plain": [
       "5246"
      ]
     },
     "execution_count": 7,
     "metadata": {},
     "output_type": "execute_result"
    }
   ],
   "source": [
    "virus(copy(infected), burst_count=10000)"
   ]
  },
  {
   "cell_type": "code",
   "execution_count": 8,
   "metadata": {},
   "outputs": [],
   "source": [
    "def burst2(node, direction, infected):\n",
    "    did_infect = False\n",
    "    if infected[node] == 'I':\n",
    "        direction *= -1j\n",
    "        infected[node] = 'F'\n",
    "    elif infected[node] == 'W':\n",
    "        infected[node] = 'I'\n",
    "        did_infect = True\n",
    "    elif infected[node] == 'F':\n",
    "        direction *= (-1 + 0j)\n",
    "        infected[node] = ''\n",
    "    else:\n",
    "        direction *= 1j\n",
    "        infected[node] = 'W'\n",
    "    return (node + direction, direction, infected, did_infect)"
   ]
  },
  {
   "cell_type": "code",
   "execution_count": 9,
   "metadata": {},
   "outputs": [],
   "source": [
    "def virus2(infected, burst_count, direction=1j, node=0+0j):\n",
    "    total_infections = 0\n",
    "    for _ in range(burst_count):\n",
    "        (node, direction, infected, did_infect) = burst2(node, direction, infected)\n",
    "        if did_infect:\n",
    "            total_infections += 1\n",
    "    return total_infections"
   ]
  },
  {
   "cell_type": "code",
   "execution_count": 10,
   "metadata": {},
   "outputs": [
    {
     "data": {
      "text/plain": [
       "2511944"
      ]
     },
     "execution_count": 10,
     "metadata": {},
     "output_type": "execute_result"
    }
   ],
   "source": [
    "virus2(copy(infected_test), 10000000)"
   ]
  },
  {
   "cell_type": "code",
   "execution_count": 11,
   "metadata": {},
   "outputs": [
    {
     "data": {
      "text/plain": [
       "2512059"
      ]
     },
     "execution_count": 11,
     "metadata": {},
     "output_type": "execute_result"
    }
   ],
   "source": [
    "virus2(copy(infected), 10000000)"
   ]
  }
 ],
 "metadata": {
  "kernelspec": {
   "display_name": "Python 3",
   "language": "python",
   "name": "python3"
  },
  "language_info": {
   "codemirror_mode": {
    "name": "ipython",
    "version": 3
   },
   "file_extension": ".py",
   "mimetype": "text/x-python",
   "name": "python",
   "nbconvert_exporter": "python",
   "pygments_lexer": "ipython3",
   "version": "3.6.3"
  }
 },
 "nbformat": 4,
 "nbformat_minor": 2
}
