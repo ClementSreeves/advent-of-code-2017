{
 "cells": [
  {
   "cell_type": "code",
   "execution_count": 1,
   "metadata": {},
   "outputs": [],
   "source": [
    "import utils\n",
    "from collections import defaultdict"
   ]
  },
  {
   "cell_type": "code",
   "execution_count": 2,
   "metadata": {},
   "outputs": [],
   "source": [
    "instructions = utils.import_file(\"Inputs/input23.txt\", split=True)"
   ]
  },
  {
   "cell_type": "code",
   "execution_count": 3,
   "metadata": {},
   "outputs": [],
   "source": [
    "def quantify(val, registers):\n",
    "    try:\n",
    "        return int(val)\n",
    "    except ValueError:\n",
    "        return registers[val]"
   ]
  },
  {
   "cell_type": "code",
   "execution_count": 11,
   "metadata": {},
   "outputs": [],
   "source": [
    "def run(instructions):                                                 \n",
    "    registers = defaultdict(int) \n",
    "    i = 0   \n",
    "    mul_count = 0\n",
    "    while 0 <= i < len(instructions):                                 \n",
    "        command, X, Y = instructions[i].split()\n",
    "        Y = quantify(Y, registers) \n",
    "        if command == 'jnz':                                         \n",
    "            X = quantify(X, registers)                                                   \n",
    "        #execute the command                                                                                    \n",
    "        if command == 'set':                                         \n",
    "            registers[X] = Y                                    \n",
    "        elif command == 'sub':                                         \n",
    "            registers[X] -= Y                                       \n",
    "        elif command == 'mul':                                         \n",
    "            registers[X] *= Y  \n",
    "            mul_count += 1\n",
    "        elif command == 'jnz':\n",
    "            if X != 0:                                                  \n",
    "                i += Y  \n",
    "                continue\n",
    "        i += 1\n",
    "    return mul_count"
   ]
  },
  {
   "cell_type": "code",
   "execution_count": 12,
   "metadata": {},
   "outputs": [
    {
     "data": {
      "text/plain": [
       "9409"
      ]
     },
     "execution_count": 12,
     "metadata": {},
     "output_type": "execute_result"
    }
   ],
   "source": [
    "run(instructions)"
   ]
  },
  {
   "cell_type": "markdown",
   "metadata": {},
   "source": [
    "The following code is a translation of the machine code. We can see for each b, the inner condition will be satisfied at some point, except when b is prime, since in that case there will be no such d,e. Therefore the excercise is one of prime detection."
   ]
  },
  {
   "cell_type": "code",
   "execution_count": 4,
   "metadata": {},
   "outputs": [],
   "source": [
    "def run2():\n",
    "    b_start = 90100\n",
    "    for b in range(b_start, b_start + 17000 + 1, 17):\n",
    "        f = 1\n",
    "        for d in range(2, b + 1):\n",
    "            for e in range(2, b + 1):\n",
    "                if d * e == b:\n",
    "                    f = 0\n",
    "        if f == 0:\n",
    "            h += 1\n",
    "    return h"
   ]
  },
  {
   "cell_type": "code",
   "execution_count": 3,
   "metadata": {},
   "outputs": [],
   "source": [
    "import math\n",
    "\n",
    "def isprime(x):\n",
    "    for i in range(2, math.floor(math.sqrt(x)) + 1):\n",
    "        if x % i == 0:\n",
    "            return False\n",
    "    return True"
   ]
  },
  {
   "cell_type": "code",
   "execution_count": 38,
   "metadata": {},
   "outputs": [
    {
     "data": {
      "text/plain": [
       "913"
      ]
     },
     "execution_count": 38,
     "metadata": {},
     "output_type": "execute_result"
    }
   ],
   "source": [
    "total = 0\n",
    "for i in range(109900, 126901, 17):\n",
    "    if not isprime(i):\n",
    "        total += 1\n",
    "total"
   ]
  }
 ],
 "metadata": {
  "kernelspec": {
   "display_name": "Python 3",
   "language": "python",
   "name": "python3"
  },
  "language_info": {
   "codemirror_mode": {
    "name": "ipython",
    "version": 3
   },
   "file_extension": ".py",
   "mimetype": "text/x-python",
   "name": "python",
   "nbconvert_exporter": "python",
   "pygments_lexer": "ipython3",
   "version": "3.6.3"
  }
 },
 "nbformat": 4,
 "nbformat_minor": 2
}
